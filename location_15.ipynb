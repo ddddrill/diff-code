{
 "cells": [
  {
   "cell_type": "markdown",
   "metadata": {},
   "source": [
    "## погнали нахуй"
   ]
  },
  {
   "cell_type": "code",
   "execution_count": 490,
   "metadata": {},
   "outputs": [],
   "source": [
    "import math\n",
    "import numpy"
   ]
  },
  {
   "cell_type": "code",
   "execution_count": 506,
   "metadata": {},
   "outputs": [],
   "source": [
    "Rmax=255*(10**3) # максимальная дальость\n",
    "\n",
    "P_po=0.5 # вероятность правильного обнаружения\n",
    "P_lt=10**(-6) # вероятность ложного обнаружения\n",
    "\n",
    "EPR=0.7 #  ЭПР \n",
    "T_obz=17*1 #  Время обзора\n",
    "\n",
    "F_az=360 #  сектор обзора по азумуту\n",
    "F_ym=45 #  сектор обзора по углу места\n",
    "\n",
    "sig_az=2*0.8# СКО по азимуту\n",
    "sig_r=150 #  СКО по дальности\n",
    "delta=5 # \n",
    "\n",
    "kp=12.58\n",
    "ksh=10\n",
    "kpsh=10**(-5)"
   ]
  },
  {
   "cell_type": "code",
   "execution_count": 549,
   "metadata": {},
   "outputs": [],
   "source": [
    "wawe=1.5 # 1 метр\n",
    "n_phi=5 # 2-10\n",
    "n_d=3 # 1.5-10"
   ]
  },
  {
   "cell_type": "code",
   "execution_count": 550,
   "metadata": {},
   "outputs": [],
   "source": [
    "q = 12 # оношение сигнал шум"
   ]
  },
  {
   "cell_type": "code",
   "execution_count": 551,
   "metadata": {},
   "outputs": [
    {
     "name": "stdout",
     "output_type": "stream",
     "text": [
      "1.909859317102744\n"
     ]
    }
   ],
   "source": [
    "# апертура по углу места\n",
    "l_ym=(wawe*180)/(F_ym*math.pi)\n",
    "print(l_ym)"
   ]
  },
  {
   "cell_type": "code",
   "execution_count": 552,
   "metadata": {},
   "outputs": [
    {
     "name": "stdout",
     "output_type": "stream",
     "text": [
      "2.7786288175037477\n"
     ]
    }
   ],
   "source": [
    "# обзор по азимуту\n",
    "teta_az=(sig_az*math.sqrt(math.pi*2*q))/n_phi\n",
    "print (teta_az)"
   ]
  },
  {
   "cell_type": "code",
   "execution_count": 553,
   "metadata": {},
   "outputs": [
    {
     "name": "stdout",
     "output_type": "stream",
     "text": [
      "30.930244704952415\n"
     ]
    }
   ],
   "source": [
    "# длина апертуры антенны по азимуту\n",
    "l_az=(180*wawe)/(1*teta_az*math.pi)\n",
    "print (l_az)"
   ]
  },
  {
   "cell_type": "code",
   "execution_count": 554,
   "metadata": {},
   "outputs": [
    {
     "name": "stdout",
     "output_type": "stream",
     "text": [
      "41.35069122101483\n"
     ]
    }
   ],
   "source": [
    "# эффективная площадь антенны \n",
    "k_p=0.7\n",
    "A=k_p*l_az*l_ym\n",
    "print(A)"
   ]
  },
  {
   "cell_type": "code",
   "execution_count": 555,
   "metadata": {},
   "outputs": [
    {
     "name": "stdout",
     "output_type": "stream",
     "text": [
      "0.07289612638512918\n"
     ]
    }
   ],
   "source": [
    "# время облучения\n",
    "k_obz=1.8\n",
    "T_obl=(T_obz*1*teta_az)/(k_obz*F_az)\n",
    "print(T_obl)"
   ]
  },
  {
   "cell_type": "code",
   "execution_count": 556,
   "metadata": {},
   "outputs": [
    {
     "name": "stdout",
     "output_type": "stream",
     "text": [
      "8.287700286096246 кВт\n"
     ]
    }
   ],
   "source": [
    "# средняя мощность\n",
    "k=1.38*(10**(-23))\n",
    "P_sr=((4*math.pi*(wawe**2))/((A**2)*EPR))*((k*kp*ksh*290*q)/(T_obl))*(Rmax**4)*(10**(0.2*kpsh*(Rmax/1000)))\n",
    "print(f'{P_sr/1000} кВт')"
   ]
  },
  {
   "cell_type": "code",
   "execution_count": 557,
   "metadata": {},
   "outputs": [
    {
     "name": "stdout",
     "output_type": "stream",
     "text": [
      "588.2352941176471\n"
     ]
    }
   ],
   "source": [
    "# частота повторения импульсов\n",
    "c=3*(10**8)\n",
    "Fp=c/(2*Rmax)\n",
    "print(Fp)"
   ]
  },
  {
   "cell_type": "code",
   "execution_count": 558,
   "metadata": {},
   "outputs": [
    {
     "name": "stdout",
     "output_type": "stream",
     "text": [
      "42.88007434419364\n"
     ]
    }
   ],
   "source": [
    "# накапливаемый импульс\n",
    "N=Fp*T_obl\n",
    "print (N)"
   ]
  },
  {
   "cell_type": "code",
   "execution_count": 559,
   "metadata": {},
   "outputs": [
    {
     "name": "stdout",
     "output_type": "stream",
     "text": [
      "2.8944050182330704e-06\n"
     ]
    }
   ],
   "source": [
    "# определим длительность импульса\n",
    "Ti=(2*sig_r*math.sqrt(math.pi*2*q))/(c*n_d)\n",
    "print(Ti)"
   ]
  },
  {
   "cell_type": "markdown",
   "metadata": {},
   "source": [
    "Желательно, но похуй, чтоб было меньше чем 1 МВт"
   ]
  },
  {
   "cell_type": "code",
   "execution_count": 560,
   "metadata": {},
   "outputs": [
    {
     "name": "stdout",
     "output_type": "stream",
     "text": [
      "4.867698334410883 МВт\n"
     ]
    }
   ],
   "source": [
    "# импульсная мощность \n",
    "Pi=(P_sr)/(Fp*Ti)\n",
    "print(f'{Pi/(10**6)} МВт')"
   ]
  },
  {
   "cell_type": "markdown",
   "metadata": {},
   "source": [
    "Проверка нахуй данных нахуй  \n",
    "ебашим по кнопкам как ебучая обезьяна, чтоб сошлось"
   ]
  },
  {
   "cell_type": "code",
   "execution_count": 561,
   "metadata": {},
   "outputs": [],
   "source": [
    "gamma_d=1.5 # 1.5-5\n",
    "gamma_phi=1.5 # 1.5-3"
   ]
  },
  {
   "cell_type": "code",
   "execution_count": 562,
   "metadata": {},
   "outputs": [
    {
     "name": "stdout",
     "output_type": "stream",
     "text": [
      "СКО по дальности 132.9340388179137\n",
      "Должно быть меньше чем 150\n",
      "Разрешающая способность по дальности 651.2411291024408 \n",
      "\n",
      "СКО по азимуту 2.8359261614488256\n",
      "Должно быть меньше чем 1.6\n",
      "Разрешающая способность по азимуту 4.1679432262556215\n",
      "Должно быть меньше чем 5 \n",
      "\n",
      "СКО по углу места 45.92793267718459\n",
      "Должно быть меньше чем 45\n",
      "Разркшаюшая способность по углу места 67.5\n"
     ]
    }
   ],
   "source": [
    "sig_r_t=(c*Ti*gamma_d)/(2*math.sqrt(2*q))\n",
    "print (f'СКО по дальности {sig_r_t}')\n",
    "print (f'Должно быть меньше чем {sig_r}')\n",
    "\n",
    "delta_r=(c*Ti*gamma_d)/(2)\n",
    "print (f'Разрешающая способность по дальности {delta_r} \\n')\n",
    "\n",
    "\n",
    "\n",
    "sig_az_t=(n_phi*teta_az)/(math.sqrt(2*q))\n",
    "print(f'СКО по азимуту {sig_az_t}')\n",
    "print (f'Должно быть меньше чем {sig_az}')\n",
    "\n",
    "delta_az=gamma_phi*teta_az\n",
    "print (f'Разрешающая способность по азимуту {delta_az}')\n",
    "print (f'Должно быть меньше чем {delta} \\n')\n",
    "\n",
    "\n",
    "\n",
    "# для 4 го варианта не обязательно\n",
    "sig_ym_t=sig_az_t=(n_phi*F_ym)/(math.sqrt(2*q))\n",
    "print (f'СКО по углу места {sig_ym_t}')\n",
    "print (f'Должно быть меньше чем {F_ym}')\n",
    "\n",
    "delta_ym=gamma_phi*F_ym\n",
    "print (f'Разркшаюшая способность по углу места {delta_ym}')"
   ]
  }
 ],
 "metadata": {
  "kernelspec": {
   "display_name": "Python 3",
   "language": "python",
   "name": "python3"
  },
  "language_info": {
   "codemirror_mode": {
    "name": "ipython",
    "version": 3
   },
   "file_extension": ".py",
   "mimetype": "text/x-python",
   "name": "python",
   "nbconvert_exporter": "python",
   "pygments_lexer": "ipython3",
   "version": "3.8.10"
  }
 },
 "nbformat": 4,
 "nbformat_minor": 2
}
