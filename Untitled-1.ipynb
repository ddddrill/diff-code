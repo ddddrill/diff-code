{
 "cells": [
  {
   "cell_type": "code",
   "execution_count": 14,
   "metadata": {},
   "outputs": [
    {
     "name": "stdout",
     "output_type": "stream",
     "text": [
      "[[ 2  2  1]\n",
      " [ 0 -2  3]\n",
      " [ 4  3  1]]\n",
      "0 0 -11.000000000000002\n",
      "0 1 12.0\n",
      "0 2 7.999999999999998\n",
      "1 0 1.0000000000000002\n",
      "1 1 -2.0\n",
      "1 2 2.0\n",
      "2 0 7.999999999999998\n",
      "2 1 -6.0\n",
      "2 2 -4.0\n"
     ]
    }
   ],
   "source": [
    "import numpy as np\n",
    "import os\n",
    "from scipy.linalg import solve\n",
    "A = np.matrix(\n",
    "[[2, 2, 1],\n",
    "[0, -2, 3],\n",
    "[4, 3, 1]])\n",
    "\n",
    "def minor_ij(arr, i, j):\n",
    "    m_shape = arr.shape[ 0] - 1\n",
    "    arrM = np.eye(m_shape, dtype='int')\n",
    "    arrM[:i,:j] = arr[:i,:j]\n",
    "    arrM[:i,j:] = arr[:i,j+1:]\n",
    "    arrM[i:,:j] = arr[i+1:,:j]\n",
    "    arrM[i:,j:] = arr[i+1:,j+1:]\n",
    "    return arrM\n",
    "\n",
    "print (A)\n",
    "\n",
    "rows = A.shape[ 0]\n",
    "cols = A.shape[1]\n",
    "# Aij = (-1)**(i+j) * Dij\n",
    "for r in range(rows):\n",
    "    for c in range(cols):\n",
    "        print(r, c, (-1)**(r+c)*np.linalg.det(minor_ij(A,r,c)))"
   ]
  }
 ],
 "metadata": {
  "kernelspec": {
   "display_name": "Python 3",
   "language": "python",
   "name": "python3"
  },
  "language_info": {
   "codemirror_mode": {
    "name": "ipython",
    "version": 3
   },
   "file_extension": ".py",
   "mimetype": "text/x-python",
   "name": "python",
   "nbconvert_exporter": "python",
   "pygments_lexer": "ipython3",
   "version": "3.8.10 (tags/v3.8.10:3d8993a, May  3 2021, 11:48:03) [MSC v.1928 64 bit (AMD64)]"
  },
  "orig_nbformat": 4,
  "vscode": {
   "interpreter": {
    "hash": "8a5edab282632443219e051e4ade2d1d5bbc671c781051bf1437897cbdfea0f1"
   }
  }
 },
 "nbformat": 4,
 "nbformat_minor": 2
}
