{
 "cells": [
  {
   "cell_type": "markdown",
   "metadata": {},
   "source": [
    "## погнали нахуй"
   ]
  },
  {
   "cell_type": "code",
   "execution_count": 1,
   "metadata": {},
   "outputs": [],
   "source": [
    "import math\n",
    "import numpy"
   ]
  },
  {
   "cell_type": "code",
   "execution_count": 2,
   "metadata": {},
   "outputs": [],
   "source": [
    "Rmax=250*(10**3) # максимальная дальость\n",
    "\n",
    "P_po=0.5 # вероятность правильного обнаружения\n",
    "P_lt=10**(-6) # вероятность ложного обнаружения\n",
    "\n",
    "EPR=0.9 #  ЭПР \n",
    "T_obz=20 #  Время обзора\n",
    "\n",
    "F_az=360 #  сектор обзора по азумуту\n",
    "F_ym=65*0.7 #  сектор обзора по углу места\n",
    "\n",
    "sig_az=2.5*1.3 # СКО по азимуту\n",
    "sig_r=400 #  СКО по дальности\n",
    "delta=5 # \n",
    "\n",
    "kp=12.58\n",
    "ksh=10\n",
    "kpsh=10**(-5)"
   ]
  },
  {
   "cell_type": "code",
   "execution_count": 67,
   "metadata": {},
   "outputs": [],
   "source": [
    "wawe=1.8 # 1 метр\n",
    "n_phi=9 # 2-10\n",
    "n_d=4 # 1.5-10"
   ]
  },
  {
   "cell_type": "code",
   "execution_count": 68,
   "metadata": {},
   "outputs": [],
   "source": [
    "q = 14 # оношение сигнал шум"
   ]
  },
  {
   "cell_type": "code",
   "execution_count": 69,
   "metadata": {},
   "outputs": [
    {
     "name": "stdout",
     "output_type": "stream",
     "text": [
      "2.2666462224955644\n"
     ]
    }
   ],
   "source": [
    "# апертура по углу места\n",
    "l_ym=(wawe*180)/(F_ym*math.pi)\n",
    "print(l_ym)"
   ]
  },
  {
   "cell_type": "code",
   "execution_count": 70,
   "metadata": {},
   "outputs": [
    {
     "name": "stdout",
     "output_type": "stream",
     "text": [
      "3.3868409609917647\n"
     ]
    }
   ],
   "source": [
    "# обзор по азимуту\n",
    "teta_az=(sig_az*math.sqrt(math.pi*2*q))/n_phi\n",
    "print (teta_az)"
   ]
  },
  {
   "cell_type": "code",
   "execution_count": 71,
   "metadata": {},
   "outputs": [
    {
     "name": "stdout",
     "output_type": "stream",
     "text": [
      "30.450914085244804\n"
     ]
    }
   ],
   "source": [
    "# длина апертуры антенны по азимуту\n",
    "l_az=(180*wawe)/(1*teta_az*math.pi)\n",
    "print (l_az)"
   ]
  },
  {
   "cell_type": "code",
   "execution_count": 72,
   "metadata": {},
   "outputs": [
    {
     "name": "stdout",
     "output_type": "stream",
     "text": [
      "48.315014567999974\n"
     ]
    }
   ],
   "source": [
    "# эффективная площадь антенны \n",
    "k_p=0.7\n",
    "A=k_p*l_az*l_ym\n",
    "print(A)"
   ]
  },
  {
   "cell_type": "code",
   "execution_count": 73,
   "metadata": {},
   "outputs": [
    {
     "name": "stdout",
     "output_type": "stream",
     "text": [
      "0.14933161203667392\n"
     ]
    }
   ],
   "source": [
    "# время облучения\n",
    "k_obz=1.8*0.7\n",
    "T_obl=(T_obz*1*teta_az)/(k_obz*F_az)\n",
    "print(T_obl)"
   ]
  },
  {
   "cell_type": "code",
   "execution_count": 74,
   "metadata": {},
   "outputs": [
    {
     "name": "stdout",
     "output_type": "stream",
     "text": [
      "3.577191396659686 кВт\n"
     ]
    }
   ],
   "source": [
    "# средняя мощность\n",
    "k=1.38*(10**(-23))\n",
    "P_sr=((4*math.pi*(wawe**2))/((A**2)*EPR))*((k*kp*ksh*290*q)/(T_obl))*(Rmax**4)*(10**(0.2*kpsh*(Rmax/1000)))\n",
    "print(f'{P_sr/1000} кВт')"
   ]
  },
  {
   "cell_type": "code",
   "execution_count": 75,
   "metadata": {},
   "outputs": [
    {
     "name": "stdout",
     "output_type": "stream",
     "text": [
      "600.0\n"
     ]
    }
   ],
   "source": [
    "# частота повторения импульсов\n",
    "c=3*(10**8)\n",
    "Fp=c/(2*Rmax)\n",
    "print(Fp)"
   ]
  },
  {
   "cell_type": "code",
   "execution_count": 76,
   "metadata": {},
   "outputs": [
    {
     "name": "stdout",
     "output_type": "stream",
     "text": [
      "89.59896722200435\n"
     ]
    }
   ],
   "source": [
    "# накапливаемый импульс\n",
    "N=Fp*T_obl\n",
    "print (N)"
   ]
  },
  {
   "cell_type": "code",
   "execution_count": 77,
   "metadata": {},
   "outputs": [
    {
     "name": "stdout",
     "output_type": "stream",
     "text": [
      "6.2526294664463356e-06\n"
     ]
    }
   ],
   "source": [
    "# определим длительность импульса\n",
    "Ti=(2*sig_r*math.sqrt(math.pi*2*q))/(c*n_d)\n",
    "print(Ti)"
   ]
  },
  {
   "cell_type": "markdown",
   "metadata": {},
   "source": [
    "Желательно, но похуй, чтоб было меньше чем 1 МВт"
   ]
  },
  {
   "cell_type": "code",
   "execution_count": 78,
   "metadata": {},
   "outputs": [
    {
     "name": "stdout",
     "output_type": "stream",
     "text": [
      "0.9535165474131244 МВт\n"
     ]
    }
   ],
   "source": [
    "# импульсная мощность \n",
    "Pi=(P_sr)/(Fp*Ti)\n",
    "print(f'{Pi/(10**6)} МВт')"
   ]
  },
  {
   "cell_type": "markdown",
   "metadata": {},
   "source": [
    "Проверка нахуй данных нахуй  \n",
    "ебашим по кнопкам как ебучая обезьяна, чтоб сошлось"
   ]
  },
  {
   "cell_type": "code",
   "execution_count": 79,
   "metadata": {},
   "outputs": [],
   "source": [
    "gamma_d=1.5 # 1.5-5\n",
    "gamma_phi=1.5 # 1.5-3"
   ]
  },
  {
   "cell_type": "code",
   "execution_count": 80,
   "metadata": {},
   "outputs": [
    {
     "name": "stdout",
     "output_type": "stream",
     "text": [
      "СКО по дальности 265.8680776358274\n",
      "Должно быть меньше чем 400\n",
      "Разрешающая способность по дальности 1406.8416299504254 \n",
      "\n",
      "СКО по азимуту 5.7604750154429265\n",
      "Должно быть меньше чем 4.2250000000000005\n",
      "Разрешающая способность по азимуту 5.080261441487647\n",
      "Должно быть меньше чем 5 \n",
      "\n",
      "СКО по углу места 77.38822584863927\n",
      "Должно быть меньше чем 45.5\n",
      "Разркшаюшая способность по углу места 68.25\n"
     ]
    }
   ],
   "source": [
    "sig_r_t=(c*Ti*gamma_d)/(2*math.sqrt(2*q))\n",
    "print (f'СКО по дальности {sig_r_t}')\n",
    "print (f'Должно быть меньше чем {sig_r}')\n",
    "\n",
    "delta_r=(c*Ti*gamma_d)/(2)\n",
    "print (f'Разрешающая способность по дальности {delta_r} \\n')\n",
    "\n",
    "\n",
    "\n",
    "sig_az_t=(n_phi*teta_az)/(math.sqrt(2*q))\n",
    "print(f'СКО по азимуту {sig_az_t}')\n",
    "print (f'Должно быть меньше чем {sig_az*1.3}')\n",
    "\n",
    "delta_az=gamma_phi*teta_az\n",
    "print (f'Разрешающая способность по азимуту {delta_az}')\n",
    "print (f'Должно быть меньше чем {delta} \\n')\n",
    "\n",
    "\n",
    "\n",
    "# для 4 го варианта не обязательно\n",
    "sig_ym_t=sig_az_t=(n_phi*F_ym)/(math.sqrt(2*q))\n",
    "print (f'СКО по углу места {sig_ym_t}')\n",
    "print (f'Должно быть меньше чем {F_ym}')\n",
    "\n",
    "delta_ym=gamma_phi*F_ym\n",
    "print (f'Разркшаюшая способность по углу места {delta_ym}')"
   ]
  }
 ],
 "metadata": {
  "kernelspec": {
   "display_name": "Python 3",
   "language": "python",
   "name": "python3"
  },
  "language_info": {
   "codemirror_mode": {
    "name": "ipython",
    "version": 3
   },
   "file_extension": ".py",
   "mimetype": "text/x-python",
   "name": "python",
   "nbconvert_exporter": "python",
   "pygments_lexer": "ipython3",
   "version": "3.8.10"
  }
 },
 "nbformat": 4,
 "nbformat_minor": 2
}
