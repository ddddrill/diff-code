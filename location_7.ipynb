{
 "cells": [
  {
   "cell_type": "markdown",
   "metadata": {},
   "source": [
    "## погнали нахуй"
   ]
  },
  {
   "cell_type": "code",
   "execution_count": 4,
   "metadata": {},
   "outputs": [],
   "source": [
    "import math\n",
    "import numpy"
   ]
  },
  {
   "cell_type": "code",
   "execution_count": 23,
   "metadata": {},
   "outputs": [],
   "source": [
    "Rmax=80*(10**3) # максимальная дальость\n",
    "\n",
    "P_po=0.7 # вероятность правильного обнаружения\n",
    "P_lt=10**(-5) # вероятность ложного обнаружения\n",
    "\n",
    "EPR=0.9 #  ЭПР \n",
    "T_obz=10 #  Время обзора\n",
    "\n",
    "F_az=100 #  сектор обзора по азумуту\n",
    "F_ym=50 #  сектор обзора по углу места\n",
    "\n",
    "sig_az=0.7 # СКО по азимуту\n",
    "sig_r=100 #  СКО по дальности\n",
    "delta_az=1 #\n",
    "delta_ym=2 \n",
    "\n",
    "kp=3.98\n",
    "ksh=3.16\n",
    "kpsh=10**(-3)"
   ]
  },
  {
   "cell_type": "code",
   "execution_count": 44,
   "metadata": {},
   "outputs": [
    {
     "data": {
      "text/plain": [
       "3.1622776601683795"
      ]
     },
     "execution_count": 44,
     "metadata": {},
     "output_type": "execute_result"
    }
   ],
   "source": [
    "10**(0.1*5)"
   ]
  },
  {
   "cell_type": "code",
   "execution_count": 24,
   "metadata": {},
   "outputs": [],
   "source": [
    "gamma_d=1.5 # 1.5-5\n",
    "gamma_phi=1.5 # 1.5-3"
   ]
  },
  {
   "cell_type": "code",
   "execution_count": 25,
   "metadata": {},
   "outputs": [
    {
     "name": "stdout",
     "output_type": "stream",
     "text": [
      "1.3333333333333333\n"
     ]
    }
   ],
   "source": [
    "F_ym=delta_ym/gamma_phi\n",
    "print(F_ym)"
   ]
  },
  {
   "cell_type": "code",
   "execution_count": 26,
   "metadata": {},
   "outputs": [],
   "source": [
    "wawe=8*(10**(-2)) # 1 метр\n",
    "n_phi=5 # 2-10\n",
    "n_d=5 # 1.5-10"
   ]
  },
  {
   "cell_type": "code",
   "execution_count": 27,
   "metadata": {},
   "outputs": [],
   "source": [
    "q = 14 # оношение сигнал шум"
   ]
  },
  {
   "cell_type": "code",
   "execution_count": 28,
   "metadata": {},
   "outputs": [
    {
     "name": "stdout",
     "output_type": "stream",
     "text": [
      "3.4377467707849396\n"
     ]
    }
   ],
   "source": [
    "# апертура по углу места\n",
    "l_ym=(wawe*180)/(F_ym*math.pi)\n",
    "print(l_ym)"
   ]
  },
  {
   "cell_type": "code",
   "execution_count": 29,
   "metadata": {},
   "outputs": [
    {
     "name": "stdout",
     "output_type": "stream",
     "text": [
      "0.9191365315676112\n"
     ]
    }
   ],
   "source": [
    "# обзор по азимуту\n",
    "teta_az=(0.7*sig_az*math.sqrt(math.pi*2*q))/n_phi\n",
    "print (teta_az)"
   ]
  },
  {
   "cell_type": "code",
   "execution_count": 30,
   "metadata": {},
   "outputs": [
    {
     "name": "stdout",
     "output_type": "stream",
     "text": [
      "4.986922185792171\n"
     ]
    }
   ],
   "source": [
    "# длина апертуры антенны по азимуту\n",
    "l_az=(180*wawe)/(1*teta_az*math.pi)\n",
    "print (l_az)"
   ]
  },
  {
   "cell_type": "code",
   "execution_count": 31,
   "metadata": {},
   "outputs": [
    {
     "name": "stdout",
     "output_type": "stream",
     "text": [
      "12.000642948253965\n"
     ]
    }
   ],
   "source": [
    "# эффективная площадь антенны \n",
    "k_p=0.7\n",
    "A=k_p*l_az*l_ym\n",
    "print(A)"
   ]
  },
  {
   "cell_type": "code",
   "execution_count": 32,
   "metadata": {},
   "outputs": [
    {
     "name": "stdout",
     "output_type": "stream",
     "text": [
      "0.05106314064264507\n"
     ]
    }
   ],
   "source": [
    "# время облучения\n",
    "k_obz=1.8\n",
    "T_obl=(T_obz*1*teta_az)/(k_obz*F_az)\n",
    "print(T_obl)"
   ]
  },
  {
   "cell_type": "code",
   "execution_count": 43,
   "metadata": {},
   "outputs": [
    {
     "name": "stdout",
     "output_type": "stream",
     "text": [
      "0.36388654676791543 кВт\n"
     ]
    }
   ],
   "source": [
    "# средняя мощность\n",
    "k=1.38*(10**(-23))\n",
    "P_sr=((4*math.pi*(wawe**2))/((A**2)*EPR))*((k*kp*ksh*290*q)/(T_obl))*(Rmax**4)*(10**(0.2*kpsh*(Rmax/1000)))\n",
    "print(f'{P_sr/1} кВт')"
   ]
  },
  {
   "cell_type": "code",
   "execution_count": 34,
   "metadata": {},
   "outputs": [
    {
     "name": "stdout",
     "output_type": "stream",
     "text": [
      "1875.0\n"
     ]
    }
   ],
   "source": [
    "# частота повторения импульсов\n",
    "c=3*(10**8)\n",
    "Fp=c/(2*Rmax)\n",
    "print(Fp)"
   ]
  },
  {
   "cell_type": "code",
   "execution_count": 35,
   "metadata": {},
   "outputs": [
    {
     "name": "stdout",
     "output_type": "stream",
     "text": [
      "95.7433887049595\n"
     ]
    }
   ],
   "source": [
    "# накапливаемый импульс\n",
    "N=Fp*T_obl\n",
    "print (N)"
   ]
  },
  {
   "cell_type": "code",
   "execution_count": 36,
   "metadata": {},
   "outputs": [
    {
     "name": "stdout",
     "output_type": "stream",
     "text": [
      "1.250525893289267e-06\n"
     ]
    }
   ],
   "source": [
    "# определим длительность импульса\n",
    "Ti=(2*sig_r*math.sqrt(math.pi*2*q))/(c*n_d)\n",
    "print(Ti)"
   ]
  },
  {
   "cell_type": "markdown",
   "metadata": {},
   "source": [
    "Желательно, но похуй, чтоб было меньше чем 1 МВт"
   ]
  },
  {
   "cell_type": "code",
   "execution_count": 37,
   "metadata": {},
   "outputs": [
    {
     "name": "stdout",
     "output_type": "stream",
     "text": [
      "0.00015519296800197967 МВт\n"
     ]
    }
   ],
   "source": [
    "# импульсная мощность \n",
    "Pi=(P_sr)/(Fp*Ti)\n",
    "print(f'{Pi/(10**6)} МВт')"
   ]
  },
  {
   "cell_type": "markdown",
   "metadata": {},
   "source": [
    "Проверка нахуй данных нахуй  \n",
    "ебашим по кнопкам как ебучая обезьяна, чтоб сошлось"
   ]
  },
  {
   "cell_type": "code",
   "execution_count": 38,
   "metadata": {},
   "outputs": [],
   "source": [
    "gamma_d=1.5 # 1.5-5\n",
    "gamma_phi=1.5 # 1.5-3"
   ]
  },
  {
   "cell_type": "code",
   "execution_count": 39,
   "metadata": {},
   "outputs": [
    {
     "name": "stdout",
     "output_type": "stream",
     "text": [
      "СКО по дальности 53.173615527165474\n",
      "Должно быть меньше чем 100\n",
      "Разрешающая способность по дальности 281.36832599008505 \n",
      "\n",
      "СКО по азимуту 0.8685023869437027\n",
      "Должно быть меньше чем 0.7\n",
      "Разрешающая способность по азимуту 1.3787047973514168\n",
      "Должно быть меньше чем 1 \n",
      "\n",
      "СКО по углу места 1.2598815766974238\n",
      "Должно быть меньше чем 1.3333333333333333\n",
      "Разркшаюшая способность по углу места 2.0\n",
      "Должно быть меньше чем 2\n"
     ]
    }
   ],
   "source": [
    "sig_r_t=(c*Ti*gamma_d)/(2*math.sqrt(2*q))\n",
    "print (f'СКО по дальности {sig_r_t}')\n",
    "print (f'Должно быть меньше чем {sig_r}')\n",
    "\n",
    "delta_r=(c*Ti*gamma_d)/(2)\n",
    "print (f'Разрешающая способность по дальности {delta_r} \\n')\n",
    "\n",
    "\n",
    "\n",
    "sig_az_t=(n_phi*teta_az)/(math.sqrt(2*q))\n",
    "print(f'СКО по азимуту {sig_az_t}')\n",
    "print (f'Должно быть меньше чем {sig_az}')\n",
    "\n",
    "delta_az_t=gamma_phi*teta_az\n",
    "print (f'Разрешающая способность по азимуту {delta_az_t}')\n",
    "print (f'Должно быть меньше чем {delta_az} \\n')\n",
    "\n",
    "\n",
    "\n",
    "# для 4 го варианта не обязательно\n",
    "sig_ym_t=sig_az_t=(n_phi*F_ym)/(math.sqrt(2*q))\n",
    "print (f'СКО по углу места {sig_ym_t}')\n",
    "print (f'Должно быть меньше чем {F_ym}')\n",
    "\n",
    "delta_ym_t=gamma_phi*F_ym\n",
    "print (f'Разркшаюшая способность по углу места {delta_ym_t}')\n",
    "print (f'Должно быть меньше чем {delta_ym}')"
   ]
  },
  {
   "cell_type": "code",
   "execution_count": 40,
   "metadata": {},
   "outputs": [
    {
     "name": "stdout",
     "output_type": "stream",
     "text": [
      "1.3333333333333333\n"
     ]
    }
   ],
   "source": [
    "F_ym=delta_ym/gamma_phi\n",
    "print(F_ym)"
   ]
  }
 ],
 "metadata": {
  "kernelspec": {
   "display_name": "Python 3",
   "language": "python",
   "name": "python3"
  },
  "language_info": {
   "codemirror_mode": {
    "name": "ipython",
    "version": 3
   },
   "file_extension": ".py",
   "mimetype": "text/x-python",
   "name": "python",
   "nbconvert_exporter": "python",
   "pygments_lexer": "ipython3",
   "version": "3.8.10"
  }
 },
 "nbformat": 4,
 "nbformat_minor": 2
}
